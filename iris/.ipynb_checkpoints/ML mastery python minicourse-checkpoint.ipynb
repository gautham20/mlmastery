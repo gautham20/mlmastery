{
 "cells": [
  {
   "cell_type": "code",
   "execution_count": 16,
   "metadata": {},
   "outputs": [],
   "source": [
    "%matplotlib inline\n",
    "import numpy as np\n",
    "import pandas as pd\n",
    "import sklearn as sk\n",
    "\n",
    "import matplotlib\n",
    "import matplotlib.pyplot as plt\n",
    "\n",
    "matplotlib.rcParams['figure.figsize'] = (10.0, 8.0)"
   ]
  },
  {
   "cell_type": "code",
   "execution_count": 4,
   "metadata": {
    "collapsed": true
   },
   "outputs": [],
   "source": [
    "columns = ['sepal_l', 'sepal_w', 'petal_l', 'petal_w', 'class']\n",
    "data = pd.read_csv('./data.csv', names = columns, index_col = False)"
   ]
  },
  {
   "cell_type": "code",
   "execution_count": 5,
   "metadata": {},
   "outputs": [
    {
     "data": {
      "text/html": [
       "<div>\n",
       "<style>\n",
       "    .dataframe thead tr:only-child th {\n",
       "        text-align: right;\n",
       "    }\n",
       "\n",
       "    .dataframe thead th {\n",
       "        text-align: left;\n",
       "    }\n",
       "\n",
       "    .dataframe tbody tr th {\n",
       "        vertical-align: top;\n",
       "    }\n",
       "</style>\n",
       "<table border=\"1\" class=\"dataframe\">\n",
       "  <thead>\n",
       "    <tr style=\"text-align: right;\">\n",
       "      <th></th>\n",
       "      <th>sepal_l</th>\n",
       "      <th>sepal_w</th>\n",
       "      <th>petal_l</th>\n",
       "      <th>petal_w</th>\n",
       "      <th>class</th>\n",
       "    </tr>\n",
       "  </thead>\n",
       "  <tbody>\n",
       "    <tr>\n",
       "      <th>0</th>\n",
       "      <td>5.1</td>\n",
       "      <td>3.5</td>\n",
       "      <td>1.4</td>\n",
       "      <td>0.2</td>\n",
       "      <td>Iris-setosa</td>\n",
       "    </tr>\n",
       "    <tr>\n",
       "      <th>1</th>\n",
       "      <td>4.9</td>\n",
       "      <td>3.0</td>\n",
       "      <td>1.4</td>\n",
       "      <td>0.2</td>\n",
       "      <td>Iris-setosa</td>\n",
       "    </tr>\n",
       "    <tr>\n",
       "      <th>2</th>\n",
       "      <td>4.7</td>\n",
       "      <td>3.2</td>\n",
       "      <td>1.3</td>\n",
       "      <td>0.2</td>\n",
       "      <td>Iris-setosa</td>\n",
       "    </tr>\n",
       "    <tr>\n",
       "      <th>3</th>\n",
       "      <td>4.6</td>\n",
       "      <td>3.1</td>\n",
       "      <td>1.5</td>\n",
       "      <td>0.2</td>\n",
       "      <td>Iris-setosa</td>\n",
       "    </tr>\n",
       "    <tr>\n",
       "      <th>4</th>\n",
       "      <td>5.0</td>\n",
       "      <td>3.6</td>\n",
       "      <td>1.4</td>\n",
       "      <td>0.2</td>\n",
       "      <td>Iris-setosa</td>\n",
       "    </tr>\n",
       "  </tbody>\n",
       "</table>\n",
       "</div>"
      ],
      "text/plain": [
       "   sepal_l  sepal_w  petal_l  petal_w        class\n",
       "0      5.1      3.5      1.4      0.2  Iris-setosa\n",
       "1      4.9      3.0      1.4      0.2  Iris-setosa\n",
       "2      4.7      3.2      1.3      0.2  Iris-setosa\n",
       "3      4.6      3.1      1.5      0.2  Iris-setosa\n",
       "4      5.0      3.6      1.4      0.2  Iris-setosa"
      ]
     },
     "execution_count": 5,
     "metadata": {},
     "output_type": "execute_result"
    }
   ],
   "source": [
    "data.head()"
   ]
  },
  {
   "cell_type": "code",
   "execution_count": 6,
   "metadata": {},
   "outputs": [
    {
     "data": {
      "text/plain": [
       "(150, 5)"
      ]
     },
     "execution_count": 6,
     "metadata": {},
     "output_type": "execute_result"
    }
   ],
   "source": [
    "data.shape"
   ]
  },
  {
   "cell_type": "code",
   "execution_count": 7,
   "metadata": {},
   "outputs": [
    {
     "data": {
      "text/plain": [
       "sepal_l    float64\n",
       "sepal_w    float64\n",
       "petal_l    float64\n",
       "petal_w    float64\n",
       "class       object\n",
       "dtype: object"
      ]
     },
     "execution_count": 7,
     "metadata": {},
     "output_type": "execute_result"
    }
   ],
   "source": [
    "data.dtypes"
   ]
  },
  {
   "cell_type": "code",
   "execution_count": 8,
   "metadata": {},
   "outputs": [
    {
     "data": {
      "text/html": [
       "<div>\n",
       "<style>\n",
       "    .dataframe thead tr:only-child th {\n",
       "        text-align: right;\n",
       "    }\n",
       "\n",
       "    .dataframe thead th {\n",
       "        text-align: left;\n",
       "    }\n",
       "\n",
       "    .dataframe tbody tr th {\n",
       "        vertical-align: top;\n",
       "    }\n",
       "</style>\n",
       "<table border=\"1\" class=\"dataframe\">\n",
       "  <thead>\n",
       "    <tr style=\"text-align: right;\">\n",
       "      <th></th>\n",
       "      <th>sepal_l</th>\n",
       "      <th>sepal_w</th>\n",
       "      <th>petal_l</th>\n",
       "      <th>petal_w</th>\n",
       "    </tr>\n",
       "  </thead>\n",
       "  <tbody>\n",
       "    <tr>\n",
       "      <th>count</th>\n",
       "      <td>150.000000</td>\n",
       "      <td>150.000000</td>\n",
       "      <td>150.000000</td>\n",
       "      <td>150.000000</td>\n",
       "    </tr>\n",
       "    <tr>\n",
       "      <th>mean</th>\n",
       "      <td>5.843333</td>\n",
       "      <td>3.054000</td>\n",
       "      <td>3.758667</td>\n",
       "      <td>1.198667</td>\n",
       "    </tr>\n",
       "    <tr>\n",
       "      <th>std</th>\n",
       "      <td>0.828066</td>\n",
       "      <td>0.433594</td>\n",
       "      <td>1.764420</td>\n",
       "      <td>0.763161</td>\n",
       "    </tr>\n",
       "    <tr>\n",
       "      <th>min</th>\n",
       "      <td>4.300000</td>\n",
       "      <td>2.000000</td>\n",
       "      <td>1.000000</td>\n",
       "      <td>0.100000</td>\n",
       "    </tr>\n",
       "    <tr>\n",
       "      <th>25%</th>\n",
       "      <td>5.100000</td>\n",
       "      <td>2.800000</td>\n",
       "      <td>1.600000</td>\n",
       "      <td>0.300000</td>\n",
       "    </tr>\n",
       "    <tr>\n",
       "      <th>50%</th>\n",
       "      <td>5.800000</td>\n",
       "      <td>3.000000</td>\n",
       "      <td>4.350000</td>\n",
       "      <td>1.300000</td>\n",
       "    </tr>\n",
       "    <tr>\n",
       "      <th>75%</th>\n",
       "      <td>6.400000</td>\n",
       "      <td>3.300000</td>\n",
       "      <td>5.100000</td>\n",
       "      <td>1.800000</td>\n",
       "    </tr>\n",
       "    <tr>\n",
       "      <th>max</th>\n",
       "      <td>7.900000</td>\n",
       "      <td>4.400000</td>\n",
       "      <td>6.900000</td>\n",
       "      <td>2.500000</td>\n",
       "    </tr>\n",
       "  </tbody>\n",
       "</table>\n",
       "</div>"
      ],
      "text/plain": [
       "          sepal_l     sepal_w     petal_l     petal_w\n",
       "count  150.000000  150.000000  150.000000  150.000000\n",
       "mean     5.843333    3.054000    3.758667    1.198667\n",
       "std      0.828066    0.433594    1.764420    0.763161\n",
       "min      4.300000    2.000000    1.000000    0.100000\n",
       "25%      5.100000    2.800000    1.600000    0.300000\n",
       "50%      5.800000    3.000000    4.350000    1.300000\n",
       "75%      6.400000    3.300000    5.100000    1.800000\n",
       "max      7.900000    4.400000    6.900000    2.500000"
      ]
     },
     "execution_count": 8,
     "metadata": {},
     "output_type": "execute_result"
    }
   ],
   "source": [
    "data.describe()"
   ]
  },
  {
   "cell_type": "code",
   "execution_count": 9,
   "metadata": {},
   "outputs": [
    {
     "data": {
      "text/html": [
       "<div>\n",
       "<style>\n",
       "    .dataframe thead tr:only-child th {\n",
       "        text-align: right;\n",
       "    }\n",
       "\n",
       "    .dataframe thead th {\n",
       "        text-align: left;\n",
       "    }\n",
       "\n",
       "    .dataframe tbody tr th {\n",
       "        vertical-align: top;\n",
       "    }\n",
       "</style>\n",
       "<table border=\"1\" class=\"dataframe\">\n",
       "  <thead>\n",
       "    <tr style=\"text-align: right;\">\n",
       "      <th></th>\n",
       "      <th>sepal_l</th>\n",
       "      <th>sepal_w</th>\n",
       "      <th>petal_l</th>\n",
       "      <th>petal_w</th>\n",
       "    </tr>\n",
       "  </thead>\n",
       "  <tbody>\n",
       "    <tr>\n",
       "      <th>sepal_l</th>\n",
       "      <td>1.000000</td>\n",
       "      <td>-0.109369</td>\n",
       "      <td>0.871754</td>\n",
       "      <td>0.817954</td>\n",
       "    </tr>\n",
       "    <tr>\n",
       "      <th>sepal_w</th>\n",
       "      <td>-0.109369</td>\n",
       "      <td>1.000000</td>\n",
       "      <td>-0.420516</td>\n",
       "      <td>-0.356544</td>\n",
       "    </tr>\n",
       "    <tr>\n",
       "      <th>petal_l</th>\n",
       "      <td>0.871754</td>\n",
       "      <td>-0.420516</td>\n",
       "      <td>1.000000</td>\n",
       "      <td>0.962757</td>\n",
       "    </tr>\n",
       "    <tr>\n",
       "      <th>petal_w</th>\n",
       "      <td>0.817954</td>\n",
       "      <td>-0.356544</td>\n",
       "      <td>0.962757</td>\n",
       "      <td>1.000000</td>\n",
       "    </tr>\n",
       "  </tbody>\n",
       "</table>\n",
       "</div>"
      ],
      "text/plain": [
       "          sepal_l   sepal_w   petal_l   petal_w\n",
       "sepal_l  1.000000 -0.109369  0.871754  0.817954\n",
       "sepal_w -0.109369  1.000000 -0.420516 -0.356544\n",
       "petal_l  0.871754 -0.420516  1.000000  0.962757\n",
       "petal_w  0.817954 -0.356544  0.962757  1.000000"
      ]
     },
     "execution_count": 9,
     "metadata": {},
     "output_type": "execute_result"
    }
   ],
   "source": [
    "data.corr()"
   ]
  },
  {
   "cell_type": "code",
   "execution_count": 12,
   "metadata": {},
   "outputs": [
    {
     "data": {
      "text/plain": [
       "array([[<matplotlib.axes._subplots.AxesSubplot object at 0x7f29ac644450>,\n",
       "        <matplotlib.axes._subplots.AxesSubplot object at 0x7f29ac5cc110>],\n",
       "       [<matplotlib.axes._subplots.AxesSubplot object at 0x7f29ac541e50>,\n",
       "        <matplotlib.axes._subplots.AxesSubplot object at 0x7f29ac4b5d90>]], dtype=object)"
      ]
     },
     "execution_count": 12,
     "metadata": {},
     "output_type": "execute_result"
    },
    {
     "data": {
      "image/png": "[encoded data removed]",
      "text/plain": [
       "<matplotlib.figure.Figure at 0x7f29ac637290>"
      ]
     },
     "metadata": {},
     "output_type": "display_data"
    }
   ],
   "source": [
    "data.hist()"
   ]
  },
  {
   "cell_type": "raw",
   "metadata": {},
   "source": []
  },
  {
   "cell_type": "code",
   "execution_count": 31,
   "metadata": {},
   "outputs": [
    {
     "name": "stdout",
     "output_type": "stream",
     "text": [
      "{'Iris-virginica': 'red', 'Iris-setosa': 'green', 'Iris-versicolor': 'blue'}\n"
     ]
    },
    {
     "data": {
      "text/plain": [
       "array([[<matplotlib.axes._subplots.AxesSubplot object at 0x7f2998054750>,\n",
       "        <matplotlib.axes._subplots.AxesSubplot object at 0x7f2998a31b50>,\n",
       "        <matplotlib.axes._subplots.AxesSubplot object at 0x7f2998190990>,\n",
       "        <matplotlib.axes._subplots.AxesSubplot object at 0x7f2997f706d0>],\n",
       "       [<matplotlib.axes._subplots.AxesSubplot object at 0x7f2997f2c8d0>,\n",
       "        <matplotlib.axes._subplots.AxesSubplot object at 0x7f2997ea2190>,\n",
       "        <matplotlib.axes._subplots.AxesSubplot object at 0x7f2997e28290>,\n",
       "        <matplotlib.axes._subplots.AxesSubplot object at 0x7f2997d82cd0>],\n",
       "       [<matplotlib.axes._subplots.AxesSubplot object at 0x7f2997d20190>,\n",
       "        <matplotlib.axes._subplots.AxesSubplot object at 0x7f2997d559d0>,\n",
       "        <matplotlib.axes._subplots.AxesSubplot object at 0x7f2997c0bd90>,\n",
       "        <matplotlib.axes._subplots.AxesSubplot object at 0x7f2997b92c10>],\n",
       "       [<matplotlib.axes._subplots.AxesSubplot object at 0x7f2997b07910>,\n",
       "        <matplotlib.axes._subplots.AxesSubplot object at 0x7f2997a8c890>,\n",
       "        <matplotlib.axes._subplots.AxesSubplot object at 0x7f2997a01050>,\n",
       "        <matplotlib.axes._subplots.AxesSubplot object at 0x7f2997987090>]], dtype=object)"
      ]
     },
     "execution_count": 31,
     "metadata": {},
     "output_type": "execute_result"
    },
    {
     "data": {
      "image/png": "[encoded data removed]",
      "text/plain": [
       "<matplotlib.figure.Figure at 0x7f299abb8890>"
      ]
     },
     "metadata": {},
     "output_type": "display_data"
    }
   ],
   "source": [
    "from pandas.plotting import scatter_matrix\n",
    "\n",
    "#classes = np.unique(data['class'])\n",
    "#colors = np.linspace(0.9,1, len(classes))\n",
    "#colormap = dict(zip(classes, colors))\n",
    "colormap = {'Iris-virginica': 'red', 'Iris-setosa': 'green', 'Iris-versicolor': 'blue'}\n",
    "\n",
    "print colormap\n",
    "\n",
    "scatter_matrix(data, c=[colormap[x] for x in data['class']])"
   ]
  },
  {
   "cell_type": "markdown",
   "metadata": {},
   "source": [
    "## Scatter matrix findings\n",
    "\n",
    "- petal length and petal width can be clearly used to identify Iris-setosa\n",
    "- varginica and versicolor are hard to seperate"
   ]
  },
  {
   "cell_type": "code",
   "execution_count": 32,
   "metadata": {},
   "outputs": [
    {
     "data": {
      "text/plain": [
       "<matplotlib.axes._subplots.AxesSubplot at 0x7f29980bf6d0>"
      ]
     },
     "execution_count": 32,
     "metadata": {},
     "output_type": "execute_result"
    },
    {
     "data": {
      "image/png": "[encoded data removed]",
      "text/plain": [
       "<matplotlib.figure.Figure at 0x7f2998abe750>"
      ]
     },
     "metadata": {},
     "output_type": "display_data"
    }
   ],
   "source": [
    "data.plot(kind='box')"
   ]
  },
  {
   "cell_type": "markdown",
   "metadata": {},
   "source": [
    "### box plot finding\n",
    "\n",
    "- sepal_w doesn't vary much across the classes"
   ]
  },
  {
   "cell_type": "code",
   "execution_count": 52,
   "metadata": {},
   "outputs": [],
   "source": [
    "#remove mean and normalize to std of 1\n",
    "from sklearn.preprocessing import StandardScaler\n",
    "\n",
    "X = data.drop(['class'],axis=1).values\n",
    "Y = data['class']\n",
    "\n",
    "scaler = StandardScaler(with_mean=True, with_std=True).fit(X)\n",
    "X_rescaled = scaler.transform(X)"
   ]
  },
  {
   "cell_type": "code",
   "execution_count": 53,
   "metadata": {},
   "outputs": [
    {
     "data": {
      "text/plain": [
       "array([ -4.73695157e-16,  -6.63173220e-16,   3.31586610e-16,\n",
       "        -2.84217094e-16])"
      ]
     },
     "execution_count": 53,
     "metadata": {},
     "output_type": "execute_result"
    }
   ],
   "source": [
    "X_rescaled.mean(axis=0)\n",
    "#almost zero"
   ]
  },
  {
   "cell_type": "code",
   "execution_count": 54,
   "metadata": {},
   "outputs": [
    {
     "data": {
      "text/plain": [
       "array([ 1.,  1.,  1.,  1.])"
      ]
     },
     "execution_count": 54,
     "metadata": {},
     "output_type": "execute_result"
    }
   ],
   "source": [
    "X_rescaled.std(axis=0)"
   ]
  },
  {
   "cell_type": "code",
   "execution_count": 137,
   "metadata": {
    "collapsed": true
   },
   "outputs": [],
   "source": [
    "#Every classifier must be run with cross validation to find the accuracy\n",
    "\n",
    "from sklearn.model_selection import train_test_split\n",
    "\n",
    "X_train, X_test, Y_train, Y_test  = train_test_split(X_rescaled,Y, test_size=0.4, random_state=\n",
    "                                                    0)"
   ]
  },
  {
   "cell_type": "code",
   "execution_count": 96,
   "metadata": {},
   "outputs": [
    {
     "name": "stdout",
     "output_type": "stream",
     "text": [
      "(90, 4)\n",
      "(60, 4)\n"
     ]
    }
   ],
   "source": [
    "print X_train.shape\n",
    "print X_test.shape"
   ]
  },
  {
   "cell_type": "code",
   "execution_count": 107,
   "metadata": {
    "scrolled": true
   },
   "outputs": [
    {
     "name": "stdout",
     "output_type": "stream",
     "text": [
      "0.9\n",
      "0.0777777777778\n"
     ]
    }
   ],
   "source": [
    "from sklearn.linear_model import LogisticRegression\n",
    "from sklearn.model_selection import cross_val_score, KFold\n",
    "\n",
    "clf = LogisticRegression(C=1)\n",
    "kfold = KFold(n_splits=10)\n",
    "scores = cross_val_score(clf, X_train, Y_train, cv = kfold)\n",
    "\n",
    "print scores.mean()\n",
    "print scores.std()"
   ]
  },
  {
   "cell_type": "code",
   "execution_count": 98,
   "metadata": {},
   "outputs": [
    {
     "data": {
      "text/plain": [
       "0.83333333333333337"
      ]
     },
     "execution_count": 98,
     "metadata": {},
     "output_type": "execute_result"
    }
   ],
   "source": [
    "from sklearn.metrics import accuracy_score\n",
    "clf.fit(X_train, Y_train)\n",
    "predict = clf.predict(X_test)\n",
    "accuracy_score(predict, Y_test)"
   ]
  },
  {
   "cell_type": "code",
   "execution_count": 99,
   "metadata": {},
   "outputs": [
    {
     "name": "stdout",
     "output_type": "stream",
     "text": [
      "0.966666666667\n",
      "0.0509175077217\n"
     ]
    }
   ],
   "source": [
    "from sklearn.svm import SVC\n",
    "\n",
    "clf = SVC(kernel='linear', C=1)\n",
    "scores = cross_val_score(clf, X_train, Y_train, cv = kfold)\n",
    "\n",
    "print scores.mean()\n",
    "print scores.std()"
   ]
  },
  {
   "cell_type": "code",
   "execution_count": 100,
   "metadata": {},
   "outputs": [
    {
     "data": {
      "text/plain": [
       "0.93333333333333335"
      ]
     },
     "execution_count": 100,
     "metadata": {},
     "output_type": "execute_result"
    }
   ],
   "source": [
    "clf.fit(X_train, Y_train)\n",
    "predict = clf.predict(X_test)\n",
    "accuracy_score(predict, Y_test)"
   ]
  },
  {
   "cell_type": "code",
   "execution_count": 103,
   "metadata": {},
   "outputs": [
    {
     "data": {
      "text/plain": [
       "0.93333333333333335"
      ]
     },
     "execution_count": 103,
     "metadata": {},
     "output_type": "execute_result"
    }
   ],
   "source": [
    "clf.score(X_test, Y_test) #shorthand for accuracy score"
   ]
  },
  {
   "cell_type": "code",
   "execution_count": 101,
   "metadata": {
    "collapsed": true
   },
   "outputs": [],
   "source": [
    "#standadizing actually worsens the results :/ It seems standazing improves accuracy only \n",
    "#in some kinds of data distributions. And accuracy is not the only metrics to be tested"
   ]
  },
  {
   "cell_type": "code",
   "execution_count": 106,
   "metadata": {},
   "outputs": [],
   "source": [
    "#To use multiple scoring methods use cross_validate"
   ]
  },
  {
   "cell_type": "code",
   "execution_count": 114,
   "metadata": {},
   "outputs": [
    {
     "name": "stdout",
     "output_type": "stream",
     "text": [
      "test_f1  mean  0.929259259259\n",
      "test_f1  std  0.082588440354\n",
      "train_accuracy  mean  0.96049382716\n",
      "train_accuracy  std  0.00923866021426\n",
      "score_time  mean  0.00192260742188\n",
      "score_time  std  0.000474531775788\n",
      "train_f1  mean  0.960164083529\n",
      "train_f1  std  0.00951335291747\n",
      "fit_time  mean  0.00181558132172\n",
      "fit_time  std  0.000333570946652\n",
      "test_accuracy  mean  0.922222222222\n",
      "test_accuracy  std  0.0867805519545\n"
     ]
    }
   ],
   "source": [
    "from sklearn.model_selection import cross_validate\n",
    "from sklearn.metrics import make_scorer, f1_score\n",
    "\n",
    "clf = LogisticRegression(C=1)\n",
    "kfold = KFold(n_splits=10)\n",
    "scoring = {\n",
    "    'f1' : make_scorer(f1_score, average=\"weighted\"),\n",
    "    'accuracy' : 'accuracy'\n",
    "}\n",
    "scores = cross_validate(clf, X_train, Y_train, cv = kfold, scoring = scoring)\n",
    "\n",
    "for key, values in scores.items():\n",
    "    print key,' mean ', values.mean()\n",
    "    print key,' std ', values.std()\n",
    "\n"
   ]
  },
  {
   "cell_type": "markdown",
   "metadata": {},
   "source": [
    "## Spot check algorithms"
   ]
  },
  {
   "cell_type": "code",
   "execution_count": 128,
   "metadata": {
    "collapsed": true
   },
   "outputs": [],
   "source": [
    "from sklearn.model_selection import cross_validate, KFold\n",
    "from sklearn.metrics import make_scorer, f1_score\n",
    "\n",
    "def spot_check_classifiers(clfs, train_data, labels):\n",
    "    kfold = KFold(n_splits=10)\n",
    "    for clf in clfs:\n",
    "        scoring = {\n",
    "            'f1' : make_scorer(f1_score, average=\"weighted\"),\n",
    "            'accuracy' : 'accuracy'\n",
    "        }\n",
    "        scores = cross_validate(clf, train_data, labels, cv = kfold, scoring = scoring)\n",
    "        print '---------------------------'\n",
    "        print str(clf)\n",
    "        print \"---------------------------\"\n",
    "        for key, values in scores.items():\n",
    "            print key,' mean ', values.mean()\n",
    "            print key,' std ', values.std()\n"
   ]
  },
  {
   "cell_type": "code",
   "execution_count": 140,
   "metadata": {
    "scrolled": false
   },
   "outputs": [
    {
     "name": "stdout",
     "output_type": "stream",
     "text": [
      "---------------------------\n",
      "LogisticRegression(C=1.0, class_weight=None, dual=False, fit_intercept=True,\n",
      "          intercept_scaling=1, max_iter=100, multi_class='ovr', n_jobs=1,\n",
      "          penalty='l2', random_state=None, solver='liblinear', tol=0.0001,\n",
      "          verbose=0, warm_start=False)\n",
      "---------------------------\n",
      "test_f1  mean  0.914329805996\n",
      "test_f1  std  0.0657948468908\n",
      "train_accuracy  mean  0.928395061728\n",
      "train_accuracy  std  0.0120962456434\n",
      "score_time  mean  0.00175740718842\n",
      "score_time  std  0.000513681772198\n",
      "train_f1  mean  0.927598762163\n",
      "train_f1  std  0.0122965512833\n",
      "fit_time  mean  0.00169076919556\n",
      "fit_time  std  0.000315920185209\n",
      "test_accuracy  mean  0.9\n",
      "test_accuracy  std  0.0777777777778\n",
      "---------------------------\n",
      "SVC(C=1.0, cache_size=200, class_weight=None, coef0=0.0,\n",
      "  decision_function_shape='ovr', degree=3, gamma='auto', kernel='rbf',\n",
      "  max_iter=-1, probability=False, random_state=None, shrinking=True,\n",
      "  tol=0.001, verbose=False)\n",
      "---------------------------\n",
      "test_f1  mean  0.971922398589\n",
      "test_f1  std  0.0444590552955\n",
      "train_accuracy  mean  0.981481481481\n",
      "train_accuracy  std  0.00617283950617\n",
      "score_time  mean  0.0013824224472\n",
      "score_time  std  0.000170914231003\n",
      "train_f1  mean  0.981435854497\n",
      "train_f1  std  0.00620558104724\n",
      "fit_time  mean  0.00106143951416\n",
      "fit_time  std  0.000119313432979\n",
      "test_accuracy  mean  0.966666666667\n",
      "test_accuracy  std  0.0509175077217\n",
      "---------------------------\n",
      "KNeighborsClassifier(algorithm='auto', leaf_size=30, metric='minkowski',\n",
      "           metric_params=None, n_jobs=1, n_neighbors=3, p=2,\n",
      "           weights='uniform')\n",
      "---------------------------\n",
      "test_f1  mean  0.967477954145\n",
      "test_f1  std  0.0496908502045\n",
      "train_accuracy  mean  0.99012345679\n",
      "train_accuracy  std  0.00493827160494\n",
      "score_time  mean  0.00227103233337\n",
      "score_time  std  0.000232280913084\n",
      "train_f1  mean  0.990114936032\n",
      "train_f1  std  0.0049425529833\n",
      "fit_time  mean  0.000708103179932\n",
      "fit_time  std  4.98918435146e-05\n",
      "test_accuracy  mean  0.966666666667\n",
      "test_accuracy  std  0.0509175077217\n",
      "---------------------------\n",
      "DecisionTreeClassifier(class_weight=None, criterion='gini', max_depth=None,\n",
      "            max_features=None, max_leaf_nodes=None,\n",
      "            min_impurity_decrease=0.0, min_impurity_split=None,\n",
      "            min_samples_leaf=1, min_samples_split=2,\n",
      "            min_weight_fraction_leaf=0.0, presort=False, random_state=None,\n",
      "            splitter='best')\n",
      "---------------------------\n",
      "test_f1  mean  0.950934744268\n",
      "test_f1  std  0.0507538179106\n",
      "train_accuracy  mean  1.0\n",
      "train_accuracy  std  0.0\n",
      "score_time  mean  0.00131409168243\n",
      "score_time  std  0.000183439882259\n",
      "train_f1  mean  1.0\n",
      "train_f1  std  0.0\n",
      "fit_time  mean  0.000837826728821\n",
      "fit_time  std  0.000244793457954\n",
      "test_accuracy  mean  0.944444444444\n",
      "test_accuracy  std  0.0555555555556\n",
      "---------------------------\n",
      "RandomForestClassifier(bootstrap=True, class_weight=None, criterion='gini',\n",
      "            max_depth=None, max_features='auto', max_leaf_nodes=None,\n",
      "            min_impurity_decrease=0.0, min_impurity_split=None,\n",
      "            min_samples_leaf=1, min_samples_split=2,\n",
      "            min_weight_fraction_leaf=0.0, n_estimators=10, n_jobs=1,\n",
      "            oob_score=False, random_state=None, verbose=0,\n",
      "            warm_start=False)\n",
      "---------------------------\n",
      "test_f1  mean  0.967477954145\n",
      "test_f1  std  0.0496908502045\n",
      "train_accuracy  mean  0.996296296296\n",
      "train_accuracy  std  0.00565750085797\n",
      "score_time  mean  0.00339908599854\n",
      "score_time  std  0.000218057945263\n",
      "train_f1  mean  0.996293902195\n",
      "train_f1  std  0.00566116858382\n",
      "fit_time  mean  0.032398891449\n",
      "fit_time  std  0.00309400819282\n",
      "test_accuracy  mean  0.966666666667\n",
      "test_accuracy  std  0.0509175077217\n",
      "---------------------------\n",
      "GradientBoostingClassifier(criterion='friedman_mse', init=None,\n",
      "              learning_rate=0.1, loss='deviance', max_depth=3,\n",
      "              max_features=None, max_leaf_nodes=None,\n",
      "              min_impurity_decrease=0.0, min_impurity_split=None,\n",
      "              min_samples_leaf=1, min_samples_split=2,\n",
      "              min_weight_fraction_leaf=0.0, n_estimators=100,\n",
      "              presort='auto', random_state=None, subsample=1.0, verbose=0,\n",
      "              warm_start=False)\n",
      "---------------------------\n",
      "test_f1  mean  0.967724867725\n",
      "test_f1  std  0.0493290840032\n",
      "train_accuracy  mean  1.0\n",
      "train_accuracy  std  0.0\n",
      "score_time  mean  0.00196697711945\n",
      "score_time  std  0.00018280084206\n",
      "train_f1  mean  1.0\n",
      "train_f1  std  0.0\n",
      "fit_time  mean  0.168402051926\n",
      "fit_time  std  0.0226247841857\n",
      "test_accuracy  mean  0.966666666667\n",
      "test_accuracy  std  0.0509175077217\n"
     ]
    }
   ],
   "source": [
    "from sklearn.linear_model import LogisticRegression\n",
    "from sklearn.svm import SVC\n",
    "from sklearn.neighbors import KNeighborsClassifier\n",
    "from sklearn.tree import DecisionTreeClassifier\n",
    "from sklearn.ensemble import RandomForestClassifier, GradientBoostingClassifier\n",
    "\n",
    "clfs = []\n",
    "clfs.append(LogisticRegression())\n",
    "clfs.append(SVC(kernel=\"rbf\"))\n",
    "clfs.append(KNeighborsClassifier(n_neighbors=3))\n",
    "clfs.append(DecisionTreeClassifier())\n",
    "clfs.append(RandomForestClassifier())\n",
    "clfs.append(GradientBoostingClassifier())\n",
    "\n",
    "spot_check_classifiers(clfs, X_train, Y_train)"
   ]
  },
  {
   "cell_type": "markdown",
   "metadata": {},
   "source": [
    "## Choosing SVM"
   ]
  },
  {
   "cell_type": "code",
   "execution_count": null,
   "metadata": {
    "collapsed": true
   },
   "outputs": [],
   "source": [
    "#grid search with various parameters\n",
    "\n",
    "from sklearn.model_selection import GridSearchCV\n",
    "\n",
    "scoring = {\n",
    "            'f1' : make_scorer(f1_score, average=\"weighted\"),\n",
    "            'accuracy' : 'accuracy'\n",
    "        }"
   ]
  }
 ],
 "metadata": {
  "kernelspec": {
   "display_name": "Python 2",
   "language": "python",
   "name": "python2"
  },
  "language_info": {
   "codemirror_mode": {
    "name": "ipython",
    "version": 2
   },
   "file_extension": ".py",
   "mimetype": "text/x-python",
   "name": "python",
   "nbconvert_exporter": "python",
   "pygments_lexer": "ipython2",
   "version": "2.7.13"
  }
 },
 "nbformat": 4,
 "nbformat_minor": 2
}
