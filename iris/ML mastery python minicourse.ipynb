{
 "cells": [
  {
   "cell_type": "code",
   "execution_count": 2,
   "metadata": {
    "collapsed": true
   },
   "outputs": [],
   "source": [
    "%matplotlib inline\n",
    "import numpy as np\n",
    "import pandas as pd\n",
    "import sklearn as sk\n",
    "\n",
    "import matplotlib\n",
    "import matplotlib.pyplot as plt\n",
    "\n",
    "matplotlib.rcParams['figure.figsize'] = (10.0, 8.0)"
   ]
  },
  {
   "cell_type": "code",
   "execution_count": 7,
   "metadata": {},
   "outputs": [],
   "source": [
    "columns = ['sepal_l', 'sepal_w', 'petal_l', 'petal_w', 'class']\n",
    "data = pd.read_csv('iris-species/Iris.csv')"
   ]
  },
  {
   "cell_type": "code",
   "execution_count": 8,
   "metadata": {},
   "outputs": [
    {
     "data": {
      "text/html": [
       "<div>\n",
       "<style>\n",
       "    .dataframe thead tr:only-child th {\n",
       "        text-align: right;\n",
       "    }\n",
       "\n",
       "    .dataframe thead th {\n",
       "        text-align: left;\n",
       "    }\n",
       "\n",
       "    .dataframe tbody tr th {\n",
       "        vertical-align: top;\n",
       "    }\n",
       "</style>\n",
       "<table border=\"1\" class=\"dataframe\">\n",
       "  <thead>\n",
       "    <tr style=\"text-align: right;\">\n",
       "      <th></th>\n",
       "      <th>Id</th>\n",
       "      <th>SepalLengthCm</th>\n",
       "      <th>SepalWidthCm</th>\n",
       "      <th>PetalLengthCm</th>\n",
       "      <th>PetalWidthCm</th>\n",
       "      <th>Species</th>\n",
       "    </tr>\n",
       "  </thead>\n",
       "  <tbody>\n",
       "    <tr>\n",
       "      <th>0</th>\n",
       "      <td>1</td>\n",
       "      <td>5.1</td>\n",
       "      <td>3.5</td>\n",
       "      <td>1.4</td>\n",
       "      <td>0.2</td>\n",
       "      <td>Iris-setosa</td>\n",
       "    </tr>\n",
       "    <tr>\n",
       "      <th>1</th>\n",
       "      <td>2</td>\n",
       "      <td>4.9</td>\n",
       "      <td>3.0</td>\n",
       "      <td>1.4</td>\n",
       "      <td>0.2</td>\n",
       "      <td>Iris-setosa</td>\n",
       "    </tr>\n",
       "    <tr>\n",
       "      <th>2</th>\n",
       "      <td>3</td>\n",
       "      <td>4.7</td>\n",
       "      <td>3.2</td>\n",
       "      <td>1.3</td>\n",
       "      <td>0.2</td>\n",
       "      <td>Iris-setosa</td>\n",
       "    </tr>\n",
       "    <tr>\n",
       "      <th>3</th>\n",
       "      <td>4</td>\n",
       "      <td>4.6</td>\n",
       "      <td>3.1</td>\n",
       "      <td>1.5</td>\n",
       "      <td>0.2</td>\n",
       "      <td>Iris-setosa</td>\n",
       "    </tr>\n",
       "    <tr>\n",
       "      <th>4</th>\n",
       "      <td>5</td>\n",
       "      <td>5.0</td>\n",
       "      <td>3.6</td>\n",
       "      <td>1.4</td>\n",
       "      <td>0.2</td>\n",
       "      <td>Iris-setosa</td>\n",
       "    </tr>\n",
       "  </tbody>\n",
       "</table>\n",
       "</div>"
      ],
      "text/plain": [
       "   Id  SepalLengthCm  SepalWidthCm  PetalLengthCm  PetalWidthCm      Species\n",
       "0   1            5.1           3.5            1.4           0.2  Iris-setosa\n",
       "1   2            4.9           3.0            1.4           0.2  Iris-setosa\n",
       "2   3            4.7           3.2            1.3           0.2  Iris-setosa\n",
       "3   4            4.6           3.1            1.5           0.2  Iris-setosa\n",
       "4   5            5.0           3.6            1.4           0.2  Iris-setosa"
      ]
     },
     "execution_count": 8,
     "metadata": {},
     "output_type": "execute_result"
    }
   ],
   "source": [
    "data.head()"
   ]
  },
  {
   "cell_type": "code",
   "execution_count": 12,
   "metadata": {},
   "outputs": [],
   "source": [
    "data.set_index('Id', inplace=True)"
   ]
  },
  {
   "cell_type": "code",
   "execution_count": 13,
   "metadata": {},
   "outputs": [
    {
     "data": {
      "text/plain": [
       "(150, 5)"
      ]
     },
     "execution_count": 13,
     "metadata": {},
     "output_type": "execute_result"
    }
   ],
   "source": [
    "data.shape"
   ]
  },
  {
   "cell_type": "code",
   "execution_count": 14,
   "metadata": {},
   "outputs": [
    {
     "data": {
      "text/plain": [
       "SepalLengthCm    float64\n",
       "SepalWidthCm     float64\n",
       "PetalLengthCm    float64\n",
       "PetalWidthCm     float64\n",
       "Species           object\n",
       "dtype: object"
      ]
     },
     "execution_count": 14,
     "metadata": {},
     "output_type": "execute_result"
    }
   ],
   "source": [
    "data.dtypes"
   ]
  },
  {
   "cell_type": "code",
   "execution_count": 15,
   "metadata": {},
   "outputs": [
    {
     "data": {
      "text/html": [
       "<div>\n",
       "<style>\n",
       "    .dataframe thead tr:only-child th {\n",
       "        text-align: right;\n",
       "    }\n",
       "\n",
       "    .dataframe thead th {\n",
       "        text-align: left;\n",
       "    }\n",
       "\n",
       "    .dataframe tbody tr th {\n",
       "        vertical-align: top;\n",
       "    }\n",
       "</style>\n",
       "<table border=\"1\" class=\"dataframe\">\n",
       "  <thead>\n",
       "    <tr style=\"text-align: right;\">\n",
       "      <th></th>\n",
       "      <th>SepalLengthCm</th>\n",
       "      <th>SepalWidthCm</th>\n",
       "      <th>PetalLengthCm</th>\n",
       "      <th>PetalWidthCm</th>\n",
       "    </tr>\n",
       "  </thead>\n",
       "  <tbody>\n",
       "    <tr>\n",
       "      <th>count</th>\n",
       "      <td>150.000000</td>\n",
       "      <td>150.000000</td>\n",
       "      <td>150.000000</td>\n",
       "      <td>150.000000</td>\n",
       "    </tr>\n",
       "    <tr>\n",
       "      <th>mean</th>\n",
       "      <td>5.843333</td>\n",
       "      <td>3.054000</td>\n",
       "      <td>3.758667</td>\n",
       "      <td>1.198667</td>\n",
       "    </tr>\n",
       "    <tr>\n",
       "      <th>std</th>\n",
       "      <td>0.828066</td>\n",
       "      <td>0.433594</td>\n",
       "      <td>1.764420</td>\n",
       "      <td>0.763161</td>\n",
       "    </tr>\n",
       "    <tr>\n",
       "      <th>min</th>\n",
       "      <td>4.300000</td>\n",
       "      <td>2.000000</td>\n",
       "      <td>1.000000</td>\n",
       "      <td>0.100000</td>\n",
       "    </tr>\n",
       "    <tr>\n",
       "      <th>25%</th>\n",
       "      <td>5.100000</td>\n",
       "      <td>2.800000</td>\n",
       "      <td>1.600000</td>\n",
       "      <td>0.300000</td>\n",
       "    </tr>\n",
       "    <tr>\n",
       "      <th>50%</th>\n",
       "      <td>5.800000</td>\n",
       "      <td>3.000000</td>\n",
       "      <td>4.350000</td>\n",
       "      <td>1.300000</td>\n",
       "    </tr>\n",
       "    <tr>\n",
       "      <th>75%</th>\n",
       "      <td>6.400000</td>\n",
       "      <td>3.300000</td>\n",
       "      <td>5.100000</td>\n",
       "      <td>1.800000</td>\n",
       "    </tr>\n",
       "    <tr>\n",
       "      <th>max</th>\n",
       "      <td>7.900000</td>\n",
       "      <td>4.400000</td>\n",
       "      <td>6.900000</td>\n",
       "      <td>2.500000</td>\n",
       "    </tr>\n",
       "  </tbody>\n",
       "</table>\n",
       "</div>"
      ],
      "text/plain": [
       "       SepalLengthCm  SepalWidthCm  PetalLengthCm  PetalWidthCm\n",
       "count     150.000000    150.000000     150.000000    150.000000\n",
       "mean        5.843333      3.054000       3.758667      1.198667\n",
       "std         0.828066      0.433594       1.764420      0.763161\n",
       "min         4.300000      2.000000       1.000000      0.100000\n",
       "25%         5.100000      2.800000       1.600000      0.300000\n",
       "50%         5.800000      3.000000       4.350000      1.300000\n",
       "75%         6.400000      3.300000       5.100000      1.800000\n",
       "max         7.900000      4.400000       6.900000      2.500000"
      ]
     },
     "execution_count": 15,
     "metadata": {},
     "output_type": "execute_result"
    }
   ],
   "source": [
    "data.describe()"
   ]
  },
  {
   "cell_type": "code",
   "execution_count": 16,
   "metadata": {},
   "outputs": [
    {
     "data": {
      "text/html": [
       "<div>\n",
       "<style>\n",
       "    .dataframe thead tr:only-child th {\n",
       "        text-align: right;\n",
       "    }\n",
       "\n",
       "    .dataframe thead th {\n",
       "        text-align: left;\n",
       "    }\n",
       "\n",
       "    .dataframe tbody tr th {\n",
       "        vertical-align: top;\n",
       "    }\n",
       "</style>\n",
       "<table border=\"1\" class=\"dataframe\">\n",
       "  <thead>\n",
       "    <tr style=\"text-align: right;\">\n",
       "      <th></th>\n",
       "      <th>SepalLengthCm</th>\n",
       "      <th>SepalWidthCm</th>\n",
       "      <th>PetalLengthCm</th>\n",
       "      <th>PetalWidthCm</th>\n",
       "    </tr>\n",
       "  </thead>\n",
       "  <tbody>\n",
       "    <tr>\n",
       "      <th>SepalLengthCm</th>\n",
       "      <td>1.000000</td>\n",
       "      <td>-0.109369</td>\n",
       "      <td>0.871754</td>\n",
       "      <td>0.817954</td>\n",
       "    </tr>\n",
       "    <tr>\n",
       "      <th>SepalWidthCm</th>\n",
       "      <td>-0.109369</td>\n",
       "      <td>1.000000</td>\n",
       "      <td>-0.420516</td>\n",
       "      <td>-0.356544</td>\n",
       "    </tr>\n",
       "    <tr>\n",
       "      <th>PetalLengthCm</th>\n",
       "      <td>0.871754</td>\n",
       "      <td>-0.420516</td>\n",
       "      <td>1.000000</td>\n",
       "      <td>0.962757</td>\n",
       "    </tr>\n",
       "    <tr>\n",
       "      <th>PetalWidthCm</th>\n",
       "      <td>0.817954</td>\n",
       "      <td>-0.356544</td>\n",
       "      <td>0.962757</td>\n",
       "      <td>1.000000</td>\n",
       "    </tr>\n",
       "  </tbody>\n",
       "</table>\n",
       "</div>"
      ],
      "text/plain": [
       "               SepalLengthCm  SepalWidthCm  PetalLengthCm  PetalWidthCm\n",
       "SepalLengthCm       1.000000     -0.109369       0.871754      0.817954\n",
       "SepalWidthCm       -0.109369      1.000000      -0.420516     -0.356544\n",
       "PetalLengthCm       0.871754     -0.420516       1.000000      0.962757\n",
       "PetalWidthCm        0.817954     -0.356544       0.962757      1.000000"
      ]
     },
     "execution_count": 16,
     "metadata": {},
     "output_type": "execute_result"
    }
   ],
   "source": [
    "data.corr()"
   ]
  },
  {
   "cell_type": "code",
   "execution_count": 17,
   "metadata": {},
   "outputs": [
    {
     "data": {
      "text/plain": [
       "array([[<matplotlib.axes._subplots.AxesSubplot object at 0x7f09aa2c0750>,\n",
       "        <matplotlib.axes._subplots.AxesSubplot object at 0x7f09aa1aae10>],\n",
       "       [<matplotlib.axes._subplots.AxesSubplot object at 0x7f09a236ec90>,\n",
       "        <matplotlib.axes._subplots.AxesSubplot object at 0x7f09a2360b50>]], dtype=object)"
      ]
     },
     "execution_count": 17,
     "metadata": {},
     "output_type": "execute_result"
    },
    {
     "data": {
      "image/png": "[encoded data removed]",
      "text/plain": [
       "<matplotlib.figure.Figure at 0x7f09aa2c8b90>"
      ]
     },
     "metadata": {},
     "output_type": "display_data"
    }
   ],
   "source": [
    "data.hist()"
   ]
  },
  {
   "cell_type": "code",
   "execution_count": 19,
   "metadata": {},
   "outputs": [
    {
     "name": "stdout",
     "output_type": "stream",
     "text": [
      "{'Iris-virginica': 'red', 'Iris-setosa': 'green', 'Iris-versicolor': 'blue'}\n"
     ]
    },
    {
     "data": {
      "text/plain": [
       "array([[<matplotlib.axes._subplots.AxesSubplot object at 0x7f09aa1f6910>,\n",
       "        <matplotlib.axes._subplots.AxesSubplot object at 0x7f09a1e4eb90>,\n",
       "        <matplotlib.axes._subplots.AxesSubplot object at 0x7f09a1f13b90>,\n",
       "        <matplotlib.axes._subplots.AxesSubplot object at 0x7f09a1e1d210>],\n",
       "       [<matplotlib.axes._subplots.AxesSubplot object at 0x7f09a1da2310>,\n",
       "        <matplotlib.axes._subplots.AxesSubplot object at 0x7f09a1d5a790>,\n",
       "        <matplotlib.axes._subplots.AxesSubplot object at 0x7f09a1c64150>,\n",
       "        <matplotlib.axes._subplots.AxesSubplot object at 0x7f09a1c4b810>],\n",
       "       [<matplotlib.axes._subplots.AxesSubplot object at 0x7f09a1bce910>,\n",
       "        <matplotlib.axes._subplots.AxesSubplot object at 0x7f09a1b43390>,\n",
       "        <matplotlib.axes._subplots.AxesSubplot object at 0x7f09a1ac8810>,\n",
       "        <matplotlib.axes._subplots.AxesSubplot object at 0x7f09a1afefd0>],\n",
       "       [<matplotlib.axes._subplots.AxesSubplot object at 0x7f09a19c2450>,\n",
       "        <matplotlib.axes._subplots.AxesSubplot object at 0x7f09a194a2d0>,\n",
       "        <matplotlib.axes._subplots.AxesSubplot object at 0x7f09a18adf90>,\n",
       "        <matplotlib.axes._subplots.AxesSubplot object at 0x7f09a1835f10>]], dtype=object)"
      ]
     },
     "execution_count": 19,
     "metadata": {},
     "output_type": "execute_result"
    },
    {
     "data": {
      "image/png": "[encoded data removed]",
      "text/plain": [
       "<matplotlib.figure.Figure at 0x7f09aa1f6410>"
      ]
     },
     "metadata": {},
     "output_type": "display_data"
    }
   ],
   "source": [
    "from pandas.plotting import scatter_matrix\n",
    "\n",
    "#classes = np.unique(data['class'])\n",
    "#colors = np.linspace(0.9,1, len(classes))\n",
    "#colormap = dict(zip(classes, colors))\n",
    "colormap = {'Iris-virginica': 'red', 'Iris-setosa': 'green', 'Iris-versicolor': 'blue'}\n",
    "\n",
    "print colormap\n",
    "\n",
    "scatter_matrix(data, c=[colormap[x] for x in data['Species']])"
   ]
  },
  {
   "cell_type": "markdown",
   "metadata": {},
   "source": [
    "## Scatter matrix findings\n",
    "\n",
    "- petal length and petal width can be clearly used to identify Iris-setosa\n",
    "- varginica and versicolor are hard to seperate"
   ]
  },
  {
   "cell_type": "code",
   "execution_count": 20,
   "metadata": {},
   "outputs": [
    {
     "data": {
      "text/plain": [
       "<matplotlib.axes._subplots.AxesSubplot at 0x7f09a1604110>"
      ]
     },
     "execution_count": 20,
     "metadata": {},
     "output_type": "execute_result"
    },
    {
     "data": {
      "image/png": "[encoded data removed]",
      "text/plain": [
       "<matplotlib.figure.Figure at 0x7f09a153e250>"
      ]
     },
     "metadata": {},
     "output_type": "display_data"
    }
   ],
   "source": [
    "data.plot(kind='box')"
   ]
  },
  {
   "cell_type": "markdown",
   "metadata": {},
   "source": [
    "### box plot finding\n",
    "\n",
    "- sepal_w doesn't vary much across the classes"
   ]
  },
  {
   "cell_type": "markdown",
   "metadata": {},
   "source": [
    "### Preprocessing Data\n",
    "\n",
    "normalize data to have 0 mean and 1 standard deviation"
   ]
  },
  {
   "cell_type": "code",
   "execution_count": 109,
   "metadata": {},
   "outputs": [],
   "source": [
    "from sklearn.model_selection import train_test_split\n",
    "\n",
    "X = data.drop(['Species'],axis=1).values\n",
    "Y = data['Species']\n",
    "X_train, X_test, Y_train, Y_test  = train_test_split(X,Y, test_size=0.25, random_state=\n",
    "                                                    10)"
   ]
  },
  {
   "cell_type": "code",
   "execution_count": 110,
   "metadata": {
    "collapsed": true
   },
   "outputs": [],
   "source": [
    "#remove mean and normalize to std of 1\n",
    "from sklearn.preprocessing import StandardScaler\n",
    "from sklearn.preprocessing import LabelEncoder\n",
    "\n",
    "label_encoder = LabelEncoder().fit(Y_train)\n",
    "scaler = StandardScaler(with_mean=True, with_std=True).fit(X_train)\n",
    "X_train = scaler.transform(X_train)\n",
    "Y_train = label_encoder.transform(Y_train)"
   ]
  },
  {
   "cell_type": "code",
   "execution_count": 87,
   "metadata": {},
   "outputs": [
    {
     "data": {
      "text/plain": [
       "array([ -1.58206781e-15,   1.61595687e-15,   2.57730345e-17,\n",
       "        -2.65660509e-16])"
      ]
     },
     "execution_count": 87,
     "metadata": {},
     "output_type": "execute_result"
    }
   ],
   "source": [
    "X_train.mean(axis=0)\n",
    "#almost zero"
   ]
  },
  {
   "cell_type": "code",
   "execution_count": 88,
   "metadata": {},
   "outputs": [
    {
     "data": {
      "text/plain": [
       "array([ 1.,  1.,  1.,  1.])"
      ]
     },
     "execution_count": 88,
     "metadata": {},
     "output_type": "execute_result"
    }
   ],
   "source": [
    "X_train.std(axis=0)"
   ]
  },
  {
   "cell_type": "code",
   "execution_count": 89,
   "metadata": {},
   "outputs": [
    {
     "name": "stdout",
     "output_type": "stream",
     "text": [
      "(112, 4)\n",
      "(38, 4)\n"
     ]
    }
   ],
   "source": [
    "print X_train.shape\n",
    "print X_test.shape"
   ]
  },
  {
   "cell_type": "code",
   "execution_count": 90,
   "metadata": {},
   "outputs": [
    {
     "data": {
      "text/plain": [
       "array([2, 2, 0, 0, 1, 0, 1, 0, 1, 1, 2, 2, 1, 2, 1, 1, 1, 0, 0, 1, 0, 2, 0,\n",
       "       0, 2, 1, 2, 0, 2, 0, 1, 1, 0, 2, 2, 2, 2, 2, 0, 1, 2, 1, 0, 2, 1, 1,\n",
       "       0, 0, 0, 1, 2, 2, 1, 0, 0, 0, 2, 2, 1, 1, 2, 2, 2, 2, 1, 0, 0, 1, 0,\n",
       "       0, 2, 1, 0, 0, 0, 1, 0, 1, 0, 1, 2, 0, 1, 1, 2, 0, 2, 0, 1, 1, 2, 2,\n",
       "       0, 1, 2, 2, 1, 1, 2, 0, 2, 0, 0, 1, 0, 2, 2, 2, 1, 0, 2, 0])"
      ]
     },
     "execution_count": 90,
     "metadata": {},
     "output_type": "execute_result"
    }
   ],
   "source": [
    "Y_train"
   ]
  },
  {
   "cell_type": "markdown",
   "metadata": {},
   "source": [
    "## Trying out Logistic Regression\n",
    "\n",
    "Initially trying out a simple algorithm is helpful to gauge the problem, and define the measures we want to optimise"
   ]
  },
  {
   "cell_type": "code",
   "execution_count": 91,
   "metadata": {
    "scrolled": true
   },
   "outputs": [
    {
     "name": "stdout",
     "output_type": "stream",
     "text": [
      "Logistic Regression accuracy in training set 86.8181818182%\n",
      "Logistic Regression standard Deviation 0.111\n"
     ]
    }
   ],
   "source": [
    "from sklearn.linear_model import LogisticRegression\n",
    "from sklearn.model_selection import cross_val_score, KFold\n",
    "\n",
    "clf = LogisticRegression(C=1)\n",
    "kfold = KFold(n_splits=10)\n",
    "scores = cross_val_score(clf, X_train, Y_train, cv = kfold)\n",
    "\n",
    "print \"Logistic Regression accuracy in training set\", str(scores.mean()*100)+'%'\n",
    "print \"Logistic Regression standard Deviation\", str(round(scores.std(),3))"
   ]
  },
  {
   "cell_type": "markdown",
   "metadata": {},
   "source": [
    "#### Adding F1 score to score the models"
   ]
  },
  {
   "cell_type": "code",
   "execution_count": 92,
   "metadata": {},
   "outputs": [
    {
     "name": "stdout",
     "output_type": "stream",
     "text": [
      "test_f1  mean  0.865701659452\n",
      "test_f1  std  0.11472705496\n",
      "train_accuracy  mean  0.892871287129\n",
      "train_accuracy  std  0.00720530906878\n",
      "score_time  mean  0.00151746273041\n",
      "score_time  std  0.000364539981117\n",
      "train_f1  mean  0.891430721001\n",
      "train_f1  std  0.00716265301973\n",
      "fit_time  mean  0.00149133205414\n",
      "fit_time  std  0.000373189077434\n",
      "test_accuracy  mean  0.868181818182\n",
      "test_accuracy  std  0.110523007423\n"
     ]
    }
   ],
   "source": [
    "from sklearn.model_selection import cross_validate\n",
    "from sklearn.metrics import make_scorer, f1_score\n",
    "\n",
    "clf = LogisticRegression(C=1)\n",
    "kfold = KFold(n_splits=10)\n",
    "scoring = {\n",
    "    'f1' : make_scorer(f1_score, average=\"weighted\"),\n",
    "    'accuracy' : 'accuracy'\n",
    "}\n",
    "scores = cross_validate(clf, X_train, Y_train, cv = kfold, scoring = scoring)\n",
    "\n",
    "for key, values in scores.items():\n",
    "    print key,' mean ', values.mean()\n",
    "    print key,' std ', values.std()\n",
    "\n"
   ]
  },
  {
   "cell_type": "markdown",
   "metadata": {},
   "source": [
    "## Spot check algorithms\n",
    "\n",
    "After defining the scoring measures, we can spot check algorithms."
   ]
  },
  {
   "cell_type": "code",
   "execution_count": 93,
   "metadata": {},
   "outputs": [],
   "source": [
    "from sklearn.model_selection import cross_validate, KFold\n",
    "from sklearn.metrics import make_scorer, f1_score\n",
    "\n",
    "def spot_check_classifiers(clfs, train_data, labels):\n",
    "    kfold = KFold(n_splits=10)\n",
    "    for clf in clfs:\n",
    "        scoring = {\n",
    "            'f1' : make_scorer(f1_score, average=\"weighted\"),\n",
    "            'accuracy' : 'accuracy'\n",
    "        }\n",
    "        scores = cross_validate(clf, train_data, labels, cv = kfold, scoring = scoring)\n",
    "        print '---------------------------'\n",
    "        print str(clf)\n",
    "        print \"---------------------------\"\n",
    "        for key, values in scores.items():\n",
    "            print key,' mean ', values.mean()\n",
    "            print key,' std ', values.std()\n"
   ]
  },
  {
   "cell_type": "markdown",
   "metadata": {},
   "source": [
    "## Classification Algorithms\n",
    "\n",
    "#### Trying out the following classification algorithms\n",
    "\n",
    "    -LogisticRegression\n",
    "    -Support Vector Machines - linear and rbf\n",
    "    -K-nearest Classifier\n",
    "    -Decision Tree Classifier\n",
    "    -Gradient Bossting Classifier"
   ]
  },
  {
   "cell_type": "code",
   "execution_count": 94,
   "metadata": {
    "scrolled": false
   },
   "outputs": [
    {
     "name": "stdout",
     "output_type": "stream",
     "text": [
      "---------------------------\n",
      "LogisticRegression(C=1.0, class_weight=None, dual=False, fit_intercept=True,\n",
      "          intercept_scaling=1, max_iter=100, multi_class='ovr', n_jobs=1,\n",
      "          penalty='l2', random_state=None, solver='liblinear', tol=0.0001,\n",
      "          verbose=0, warm_start=False)\n",
      "---------------------------\n",
      "test_f1  mean  0.865701659452\n",
      "test_f1  std  0.11472705496\n",
      "train_accuracy  mean  0.892871287129\n",
      "train_accuracy  std  0.00720530906878\n",
      "score_time  mean  0.00145134925842\n",
      "score_time  std  0.00041439903802\n",
      "train_f1  mean  0.891430721001\n",
      "train_f1  std  0.00716265301973\n",
      "fit_time  mean  0.00148096084595\n",
      "fit_time  std  0.000241415669594\n",
      "test_accuracy  mean  0.868181818182\n",
      "test_accuracy  std  0.110523007423\n",
      "---------------------------\n",
      "SVC(C=1.0, cache_size=200, class_weight=None, coef0=0.0,\n",
      "  decision_function_shape='ovr', degree=3, gamma='auto', kernel='rbf',\n",
      "  max_iter=-1, probability=False, random_state=None, shrinking=True,\n",
      "  tol=0.001, verbose=False)\n",
      "---------------------------\n",
      "test_f1  mean  0.947352092352\n",
      "test_f1  std  0.0592587580035\n",
      "train_accuracy  mean  0.973207920792\n",
      "train_accuracy  std  0.00775661536076\n",
      "score_time  mean  0.00114231109619\n",
      "score_time  std  0.000287762825882\n",
      "train_f1  mean  0.973163982922\n",
      "train_f1  std  0.00777672645487\n",
      "fit_time  mean  0.00102365016937\n",
      "fit_time  std  0.000423412148714\n",
      "test_accuracy  mean  0.94696969697\n",
      "test_accuracy  std  0.0594588390011\n",
      "---------------------------\n",
      "SVC(C=1.0, cache_size=200, class_weight=None, coef0=0.0,\n",
      "  decision_function_shape='ovr', degree=3, gamma='auto', kernel='linear',\n",
      "  max_iter=-1, probability=False, random_state=None, shrinking=True,\n",
      "  tol=0.001, verbose=False)\n",
      "---------------------------\n",
      "test_f1  mean  0.964893742621\n",
      "test_f1  std  0.0431718998632\n",
      "train_accuracy  mean  0.970247524752\n",
      "train_accuracy  std  0.00623137357771\n",
      "score_time  mean  0.00107049942017\n",
      "score_time  std  0.000287021234065\n",
      "train_f1  mean  0.97015086863\n",
      "train_f1  std  0.00627744178032\n",
      "fit_time  mean  0.000720763206482\n",
      "fit_time  std  0.000174093842342\n",
      "test_accuracy  mean  0.965151515152\n",
      "test_accuracy  std  0.0427476847869\n",
      "---------------------------\n",
      "KNeighborsClassifier(algorithm='auto', leaf_size=30, metric='minkowski',\n",
      "           metric_params=None, n_jobs=1, n_neighbors=3, p=2,\n",
      "           weights='uniform')\n",
      "---------------------------\n",
      "test_f1  mean  0.911861471861\n",
      "test_f1  std  0.0687901907533\n",
      "train_accuracy  mean  0.955376237624\n",
      "train_accuracy  std  0.0110128254895\n",
      "score_time  mean  0.00235517024994\n",
      "score_time  std  0.000584196544241\n",
      "train_f1  mean  0.955421677621\n",
      "train_f1  std  0.0109494516311\n",
      "fit_time  mean  0.000568008422852\n",
      "fit_time  std  0.000162870053839\n",
      "test_accuracy  mean  0.911363636364\n",
      "test_accuracy  std  0.0686055854465\n",
      "---------------------------\n",
      "DecisionTreeClassifier(class_weight=None, criterion='gini', max_depth=None,\n",
      "            max_features=None, max_leaf_nodes=None,\n",
      "            min_impurity_decrease=0.0, min_impurity_split=None,\n",
      "            min_samples_leaf=1, min_samples_split=2,\n",
      "            min_weight_fraction_leaf=0.0, presort=False, random_state=None,\n",
      "            splitter='best')\n",
      "---------------------------\n",
      "test_f1  mean  0.936767676768\n",
      "test_f1  std  0.0812415143552\n",
      "train_accuracy  mean  1.0\n",
      "train_accuracy  std  0.0\n",
      "score_time  mean  0.00164768695831\n",
      "score_time  std  0.000698281541299\n",
      "train_f1  mean  1.0\n",
      "train_f1  std  0.0\n",
      "fit_time  mean  0.00594050884247\n",
      "fit_time  std  0.0155793474379\n",
      "test_accuracy  mean  0.937878787879\n",
      "test_accuracy  std  0.079729224951\n",
      "---------------------------\n",
      "RandomForestClassifier(bootstrap=True, class_weight=None, criterion='gini',\n",
      "            max_depth=None, max_features='auto', max_leaf_nodes=None,\n",
      "            min_impurity_decrease=0.0, min_impurity_split=None,\n",
      "            min_samples_leaf=1, min_samples_split=2,\n",
      "            min_weight_fraction_leaf=0.0, n_estimators=10, n_jobs=1,\n",
      "            oob_score=False, random_state=None, verbose=0,\n",
      "            warm_start=False)\n",
      "---------------------------\n",
      "test_f1  mean  0.935501333683\n",
      "test_f1  std  0.0946593094476\n",
      "train_accuracy  mean  0.99503960396\n",
      "train_accuracy  std  0.0049604750888\n",
      "score_time  mean  0.00366892814636\n",
      "score_time  std  0.000742559708933\n",
      "train_f1  mean  0.995039133802\n",
      "train_f1  std  0.00496097947335\n",
      "fit_time  mean  0.0376413345337\n",
      "fit_time  std  0.0029608724094\n",
      "test_accuracy  mean  0.937121212121\n",
      "test_accuracy  std  0.0911644141824\n",
      "---------------------------\n",
      "GradientBoostingClassifier(criterion='friedman_mse', init=None,\n",
      "              learning_rate=0.1, loss='deviance', max_depth=3,\n",
      "              max_features=None, max_leaf_nodes=None,\n",
      "              min_impurity_decrease=0.0, min_impurity_split=None,\n",
      "              min_samples_leaf=1, min_samples_split=2,\n",
      "              min_weight_fraction_leaf=0.0, n_estimators=100,\n",
      "              presort='auto', random_state=None, subsample=1.0, verbose=0,\n",
      "              warm_start=False)\n",
      "---------------------------\n",
      "test_f1  mean  0.936767676768\n",
      "test_f1  std  0.0812415143552\n",
      "train_accuracy  mean  1.0\n",
      "train_accuracy  std  0.0\n",
      "score_time  mean  0.00753304958344\n",
      "score_time  std  0.0168198873892\n",
      "train_f1  mean  1.0\n",
      "train_f1  std  0.0\n",
      "fit_time  mean  0.203712797165\n",
      "fit_time  std  0.027377578804\n",
      "test_accuracy  mean  0.937878787879\n",
      "test_accuracy  std  0.079729224951\n"
     ]
    }
   ],
   "source": [
    "from sklearn.linear_model import LogisticRegression\n",
    "from sklearn.svm import SVC\n",
    "from sklearn.neighbors import KNeighborsClassifier\n",
    "from sklearn.tree import DecisionTreeClassifier\n",
    "from sklearn.ensemble import RandomForestClassifier, GradientBoostingClassifier\n",
    "\n",
    "clfs = []\n",
    "clfs.append(LogisticRegression())\n",
    "clfs.append(SVC(kernel=\"rbf\"))\n",
    "clfs.append(SVC(kernel=\"linear\"))\n",
    "clfs.append(KNeighborsClassifier(n_neighbors=3))\n",
    "clfs.append(DecisionTreeClassifier())\n",
    "clfs.append(RandomForestClassifier())\n",
    "clfs.append(GradientBoostingClassifier())\n",
    "\n",
    "spot_check_classifiers(clfs, X_train, Y_train)"
   ]
  },
  {
   "cell_type": "markdown",
   "metadata": {},
   "source": [
    "#### Both Gradient Boosting Classifier and SVM gives high accuracy, choosing SVM as it's mean score_time is lesser "
   ]
  },
  {
   "cell_type": "markdown",
   "metadata": {},
   "source": [
    "## Optimise SVM\n",
    "\n",
    "Using Grid search to tune algorithm parameters\n",
    "\n",
    "Parameters to tune:\n",
    "- kernel\n",
    "- C - error penalty"
   ]
  },
  {
   "cell_type": "code",
   "execution_count": 96,
   "metadata": {},
   "outputs": [
    {
     "data": {
      "text/plain": [
       "GridSearchCV(cv=None, error_score='raise',\n",
       "       estimator=SVC(C=1.0, cache_size=200, class_weight=None, coef0=0.0,\n",
       "  decision_function_shape='ovr', degree=3, gamma='auto', kernel='rbf',\n",
       "  max_iter=-1, probability=False, random_state=None, shrinking=True,\n",
       "  tol=0.001, verbose=False),\n",
       "       fit_params=None, iid=True, n_jobs=1,\n",
       "       param_grid={'kernel': ['linear', 'rbf', 'poly', 'sigmoid'], 'C': array([ 0.1,  0.2,  0.3,  0.4,  0.5,  0.6,  0.7,  0.8,  0.9,  1. ,  1.1,\n",
       "        1.2])},\n",
       "       pre_dispatch='2*n_jobs', refit='accuracy', return_train_score=True,\n",
       "       scoring={'f1': make_scorer(f1_score, average=weighted), 'accuracy': 'accuracy'},\n",
       "       verbose=0)"
      ]
     },
     "execution_count": 96,
     "metadata": {},
     "output_type": "execute_result"
    }
   ],
   "source": [
    "#grid search with various parameters\n",
    "\n",
    "from sklearn.model_selection import GridSearchCV\n",
    "from sklearn.svm import SVC\n",
    "\n",
    "scoring = {\n",
    "    'f1' : make_scorer(f1_score, average=\"weighted\"),\n",
    "    'accuracy' : 'accuracy'\n",
    "}\n",
    "\n",
    "params_grid = {\n",
    "    'kernel' : ['linear', 'rbf', 'poly', 'sigmoid'],\n",
    "    'C' : np.linspace(0.1,1.2,12),\n",
    "}\n",
    "\n",
    "clf = SVC()\n",
    "\n",
    "gridsearch = GridSearchCV(clf, params_grid, scoring=scoring, refit='accuracy')\n",
    "gridsearch.fit(X_train, Y_train)"
   ]
  },
  {
   "cell_type": "code",
   "execution_count": 97,
   "metadata": {},
   "outputs": [
    {
     "data": {
      "text/plain": [
       "0.9464285714285714"
      ]
     },
     "execution_count": 97,
     "metadata": {},
     "output_type": "execute_result"
    }
   ],
   "source": [
    "gridsearch.best_score_"
   ]
  },
  {
   "cell_type": "code",
   "execution_count": 98,
   "metadata": {},
   "outputs": [
    {
     "data": {
      "text/plain": [
       "SVC(C=0.20000000000000001, cache_size=200, class_weight=None, coef0=0.0,\n",
       "  decision_function_shape='ovr', degree=3, gamma='auto', kernel='linear',\n",
       "  max_iter=-1, probability=False, random_state=None, shrinking=True,\n",
       "  tol=0.001, verbose=False)"
      ]
     },
     "execution_count": 98,
     "metadata": {},
     "output_type": "execute_result"
    }
   ],
   "source": [
    "gridsearch.best_estimator_"
   ]
  },
  {
   "cell_type": "code",
   "execution_count": 67,
   "metadata": {
    "collapsed": true
   },
   "outputs": [],
   "source": [
    "#gridsearch.cv_results_"
   ]
  },
  {
   "cell_type": "markdown",
   "metadata": {},
   "source": [
    "### best model is linear SVM with C = 0.2"
   ]
  },
  {
   "cell_type": "code",
   "execution_count": 99,
   "metadata": {},
   "outputs": [
    {
     "name": "stdout",
     "output_type": "stream",
     "text": [
      "---------------------------\n",
      "SVC(C=0.2, cache_size=200, class_weight=None, coef0=0.0,\n",
      "  decision_function_shape='ovr', degree=3, gamma='auto', kernel='linear',\n",
      "  max_iter=-1, probability=False, random_state=None, shrinking=True,\n",
      "  tol=0.001, verbose=False)\n",
      "---------------------------\n",
      "test_f1  mean  0.955947133674\n",
      "test_f1  std  0.0442269751384\n",
      "train_accuracy  mean  0.974198019802\n",
      "train_accuracy  std  0.00795132728096\n",
      "score_time  mean  0.00185480117798\n",
      "score_time  std  0.000243873077063\n",
      "train_f1  mean  0.974167975793\n",
      "train_f1  std  0.00797495988402\n",
      "fit_time  mean  0.0010950088501\n",
      "fit_time  std  0.000101411605366\n",
      "test_accuracy  mean  0.956060606061\n",
      "test_accuracy  std  0.0440176940798\n"
     ]
    }
   ],
   "source": [
    "best_clf = SVC(kernel=\"linear\", C=0.2)\n",
    "\n",
    "spot_check_classifiers([best_clf], X_train, Y_train)"
   ]
  },
  {
   "cell_type": "code",
   "execution_count": 100,
   "metadata": {
    "collapsed": true
   },
   "outputs": [],
   "source": [
    "##saving model\n",
    "#import pickle\n",
    "\n",
    "#pickle.dump(best_clf, open('best_iris_classifier', 'wb'))"
   ]
  },
  {
   "cell_type": "code",
   "execution_count": 101,
   "metadata": {},
   "outputs": [],
   "source": [
    "#model = pickle.load(open('best_iris_classifier', 'rb'))"
   ]
  },
  {
   "cell_type": "markdown",
   "metadata": {},
   "source": [
    "### Run the model on Test data set"
   ]
  },
  {
   "cell_type": "code",
   "execution_count": 116,
   "metadata": {},
   "outputs": [
    {
     "data": {
      "text/plain": [
       "1.0"
      ]
     },
     "execution_count": 116,
     "metadata": {},
     "output_type": "execute_result"
    }
   ],
   "source": [
    "best_clf.fit(X_train, Y_train)\n",
    "\n",
    "X_test = scaler.transform(X_test)\n",
    "Y_test = label_encoder.transform(Y_test)\n",
    "best_clf.score(X_test, Y_test)"
   ]
  },
  {
   "cell_type": "markdown",
   "metadata": {},
   "source": [
    "## accuracy of the model in test set is 93%"
   ]
  },
  {
   "cell_type": "code",
   "execution_count": 107,
   "metadata": {},
   "outputs": [
    {
     "data": {
      "text/plain": [
       "array([[-14.56431876, -32.08174722,  -3.12529748,  -3.29151311],\n",
       "       [-14.39294659, -27.36215067,  -2.96735468,  -1.98310723],\n",
       "       [-16.1066683 , -15.5631593 ,  -3.63422428,  -5.69025723],\n",
       "       [-14.9070631 , -23.82245326,  -3.09019908,  -3.07344547],\n",
       "       [-16.79215698, -20.28275585,  -3.65177348,  -5.69025723],\n",
       "       [-16.79215698, -35.62144464,  -3.28324028,  -3.94571605],\n",
       "       [-14.56431876, -29.72194895,  -3.03755148,  -2.85537782],\n",
       "       [-15.42117961, -27.36215067,  -3.17794508,  -3.94571605],\n",
       "       [-16.62078481, -19.10285671,  -3.63422428,  -5.69025723],\n",
       "       [-15.59255179, -26.18225153,  -3.10774828,  -3.29151311],\n",
       "       [-15.76392396, -23.82245326,  -3.10774828,  -2.85537782],\n",
       "       [-15.42117961, -27.36215067,  -3.00245308,  -1.98310723],\n",
       "       [-15.93529613, -32.08174722,  -3.19549428,  -3.29151311],\n",
       "       [-16.96352915, -23.82245326,  -3.65177348,  -5.69025723],\n",
       "       [-16.62078481, -14.38326016,  -3.63422428,  -5.47218958],\n",
       "       [-13.7074579 , -23.82245326,  -2.93225628,  -1.54697194],\n",
       "       [-15.07843527, -19.10285671,  -3.10774828,  -2.63731017],\n",
       "       [-17.82039001, -23.82245326,  -3.66932268,  -5.69025723],\n",
       "       [-16.62078481, -15.5631593 ,  -3.63422428,  -5.25412194],\n",
       "       [-16.79215698, -21.46265498,  -3.68687188,  -5.69025723],\n",
       "       [-13.19334139, -23.82245326,  -2.86205948,  -1.54697194],\n",
       "       [-14.39294659, -26.18225153,  -2.91470708,  -1.32890429],\n",
       "       [-14.73569093, -26.18225153,  -3.05510068,  -2.20117488],\n",
       "       [-17.13490132, -19.10285671,  -3.56402748,  -5.69025723],\n",
       "       [-15.24980744, -23.82245326,  -3.16039588,  -2.85537782],\n",
       "       [-17.30627349, -21.46265498,  -3.66932268,  -5.69025723],\n",
       "       [-15.59255179, -23.82245326,  -3.16039588,  -3.50958076],\n",
       "       [-15.93529613, -28.54204981,  -3.12529748,  -3.50958076],\n",
       "       [-13.7074579 , -26.18225153,  -3.05510068,  -3.07344547],\n",
       "       [-12.16510837, -14.38326016,  -2.72166588,  -1.32890429],\n",
       "       [-14.05020225, -25.0023524 ,  -3.09019908,  -3.29151311],\n",
       "       [-14.73569093, -25.0023524 ,  -3.14284668,  -3.29151311],\n",
       "       [-13.02196922, -23.82245326,  -2.87960868,  -2.63731017],\n",
       "       [-15.42117961, -26.18225153,  -3.00245308,  -0.892769  ],\n",
       "       [-14.56431876, -29.72194895,  -3.02000228,  -1.98310723],\n",
       "       [-17.47764567, -21.46265498,  -3.65177348,  -5.69025723],\n",
       "       [-13.87883008, -20.28275585,  -2.89715788,  -1.54697194],\n",
       "       [-13.53608573, -21.46265498,  -2.89715788,  -1.11083665]])"
      ]
     },
     "execution_count": 107,
     "metadata": {},
     "output_type": "execute_result"
    }
   ],
   "source": [
    "X_test"
   ]
  },
  {
   "cell_type": "code",
   "execution_count": 115,
   "metadata": {},
   "outputs": [
    {
     "data": {
      "text/plain": [
       "array([[ 2.2256217 , -1.08137229,  1.78258025,  1.44265925],\n",
       "       [ 1.26827314,  0.05691433,  0.77481755,  1.44265925],\n",
       "       [-1.00542968,  0.73988631, -1.18472103, -1.02120823],\n",
       "       [-1.00542968,  0.96754363, -1.18472103, -0.76185376],\n",
       "       [-0.76609254, -0.85371497,  0.10297575,  0.27556413],\n",
       "       [-1.60377252, -1.76434427, -1.35268148, -1.15088547],\n",
       "       [ 0.55026173,  0.51222898,  0.55087029,  0.5349186 ],\n",
       "       [-0.76609254,  2.33348758, -1.24070785, -1.41023994],\n",
       "       [ 1.26827314,  0.05691433,  0.66284392,  0.40524136],\n",
       "       [ 0.07158745,  0.28457166,  0.6068571 ,  0.79427307],\n",
       "       [-0.28741826, -0.62605764,  0.66284392,  1.05362754],\n",
       "       [ 1.028936  ,  0.51222898,  1.11073845,  1.70201372],\n",
       "       [ 0.43059316, -1.99200159,  0.43889665,  0.40524136],\n",
       "       [ 1.62727885,  1.19520095,  1.33468572,  1.70201372],\n",
       "       [-0.40708683, -1.53668694, -0.00899788, -0.24314482],\n",
       "       [ 0.19125602, -0.39840032,  0.43889665,  0.40524136],\n",
       "       [ 0.6699303 ,  0.28457166,  0.43889665,  0.40524136],\n",
       "       [-0.04808112,  2.10583025, -1.4086683 , -1.28056271],\n",
       "       [-0.64642397,  1.42285828, -1.24070785, -1.28056271],\n",
       "       [ 0.31092459, -0.39840032,  0.55087029,  0.27556413],\n",
       "       [-0.5267554 ,  0.73988631, -1.12873421, -1.28056271],\n",
       "       [ 0.6699303 ,  0.05691433,  0.99876482,  0.79427307],\n",
       "       [-1.36443539,  0.28457166, -1.18472103, -1.28056271],\n",
       "       [-1.48410396,  0.05691433, -1.24070785, -1.28056271],\n",
       "       [-1.12509825, -1.30902962,  0.43889665,  0.66459584],\n",
       "       [-0.88576111, -1.30902962, -0.4009056 , -0.11346758],\n",
       "       [ 1.028936  ,  0.05691433,  1.05475164,  1.57233649],\n",
       "       [-1.12509825,  0.05691433, -1.24070785, -1.41023994],\n",
       "       [ 1.26827314,  0.05691433,  0.942778  ,  1.18330478],\n",
       "       [-1.24476682, -0.17074299, -1.29669466, -1.15088547],\n",
       "       [-0.04808112, -0.85371497,  0.10297575,  0.01620965],\n",
       "       [ 0.19125602, -0.85371497,  0.77481755,  0.5349186 ],\n",
       "       [-1.72344109,  0.28457166, -1.35268148, -1.28056271],\n",
       "       [ 1.14860457,  0.28457166,  1.22271209,  1.44265925],\n",
       "       [ 2.46495884,  1.6505156 ,  1.50264617,  1.05362754],\n",
       "       [ 0.78959886, -0.17074299,  0.99876482,  0.79427307],\n",
       "       [ 2.10595313, -0.17074299,  1.6146198 ,  1.18330478],\n",
       "       [ 0.55026173, -0.62605764,  0.77481755,  0.40524136],\n",
       "       [-1.48410396,  0.73988631, -1.29669466, -1.15088547],\n",
       "       [-0.16774969, -1.08137229, -0.12097151, -0.24314482],\n",
       "       [ 1.028936  , -1.30902962,  1.16672527,  0.79427307],\n",
       "       [-0.16774969, -0.62605764,  0.21494939,  0.14588689],\n",
       "       [-1.12509825,  0.05691433, -1.24070785, -1.41023994],\n",
       "       [ 0.6699303 , -0.62605764,  1.05475164,  1.18330478],\n",
       "       [ 1.38794171,  0.28457166,  0.55087029,  0.27556413],\n",
       "       [-0.16774969, -0.39840032,  0.2709362 ,  0.14588689],\n",
       "       [-1.00542968,  1.19520095, -1.29669466, -1.28056271],\n",
       "       [-0.5267554 ,  1.87817293, -1.12873421, -1.02120823],\n",
       "       [-0.88576111,  1.6505156 , -1.01676058, -1.02120823],\n",
       "       [-0.5267554 , -0.17074299,  0.43889665,  0.40524136],\n",
       "       [ 1.86661599, -0.62605764,  1.33468572,  0.92395031],\n",
       "       [ 0.55026173, -0.39840032,  1.05475164,  0.79427307],\n",
       "       [ 0.90926743, -0.17074299,  0.38290984,  0.27556413],\n",
       "       [-1.00542968,  0.73988631, -1.24070785, -1.28056271],\n",
       "       [-0.88576111,  1.6505156 , -1.18472103, -1.28056271],\n",
       "       [-0.88576111,  0.96754363, -1.29669466, -1.15088547],\n",
       "       [ 0.78959886, -0.17074299,  1.16672527,  1.31298202],\n",
       "       [-0.04808112, -0.85371497,  0.77481755,  0.92395031],\n",
       "       [ 0.31092459, -0.62605764,  0.15896257,  0.14588689],\n",
       "       [-0.40708683, -1.53668694,  0.04698894, -0.11346758],\n",
       "       [ 0.78959886,  0.28457166,  0.77481755,  1.05362754],\n",
       "       [ 0.78959886, -0.17074299,  0.83080437,  1.05362754],\n",
       "       [ 0.07158745, -0.17074299,  0.77481755,  0.79427307],\n",
       "       [ 0.31092459, -1.08137229,  1.05475164,  0.27556413],\n",
       "       [ 0.6699303 , -0.39840032,  0.32692302,  0.14588689],\n",
       "       [-0.76609254,  0.73988631, -1.29669466, -1.28056271],\n",
       "       [-1.24476682,  0.73988631, -1.18472103, -1.28056271],\n",
       "       [-0.28741826, -0.85371497,  0.2709362 ,  0.14588689],\n",
       "       [-0.88576111,  0.51222898, -1.12873421, -0.891531  ],\n",
       "       [-1.48410396,  1.19520095, -1.52064193, -1.28056271],\n",
       "       [ 0.31092459, -0.17074299,  0.66284392,  0.79427307],\n",
       "       [-1.00542968, -1.76434427, -0.23294515, -0.24314482],\n",
       "       [-0.16774969,  1.6505156 , -1.12873421, -1.15088547],\n",
       "       [-0.76609254,  0.96754363, -1.24070785, -1.28056271],\n",
       "       [-0.40708683,  0.96754363, -1.35268148, -1.28056271],\n",
       "       [-1.12509825, -1.53668694, -0.23294515, -0.24314482],\n",
       "       [-0.5267554 ,  0.73988631, -1.24070785, -1.02120823],\n",
       "       [ 1.028936  ,  0.05691433,  0.38290984,  0.27556413],\n",
       "       [-1.24476682, -0.17074299, -1.29669466, -1.41023994],\n",
       "       [-0.40708683, -1.30902962,  0.15896257,  0.14588689],\n",
       "       [ 0.19125602, -1.99200159,  0.71883074,  0.40524136],\n",
       "       [-1.24476682,  0.05691433, -1.18472103, -1.28056271],\n",
       "       [ 1.028936  ,  0.05691433,  0.55087029,  0.40524136],\n",
       "       [-0.04808112, -1.08137229,  0.15896257,  0.01620965],\n",
       "       [ 0.43059316,  0.73988631,  0.942778  ,  1.44265925],\n",
       "       [-1.00542968, -0.17074299, -1.18472103, -1.28056271],\n",
       "       [ 0.19125602, -0.17074299,  0.6068571 ,  0.79427307],\n",
       "       [-1.84310966, -0.17074299, -1.46465511, -1.41023994],\n",
       "       [-0.28741826, -1.30902962,  0.10297575, -0.11346758],\n",
       "       [ 1.028936  , -0.17074299,  0.71883074,  0.66459584],\n",
       "       [ 2.2256217 , -0.17074299,  1.33468572,  1.44265925],\n",
       "       [ 0.55026173,  0.73988631,  1.05475164,  1.57233649],\n",
       "       [-0.40708683,  2.5611449 , -1.29669466, -1.28056271],\n",
       "       [ 0.19125602, -1.99200159,  0.15896257, -0.24314482],\n",
       "       [ 2.2256217 , -0.62605764,  1.67060662,  1.05362754],\n",
       "       [ 1.74694742, -0.39840032,  1.44665935,  0.79427307],\n",
       "       [-0.28741826, -0.17074299,  0.21494939,  0.14588689],\n",
       "       [ 0.78959886, -0.62605764,  0.49488347,  0.40524136],\n",
       "       [ 0.55026173,  0.51222898,  1.2786989 ,  1.70201372],\n",
       "       [-0.5267554 ,  1.87817293, -1.35268148, -1.02120823],\n",
       "       [ 0.6699303 ,  0.28457166,  0.88679119,  1.44265925],\n",
       "       [-1.00542968,  0.96754363, -1.35268148, -1.15088547],\n",
       "       [-0.88576111,  0.96754363, -1.29669466, -1.28056271],\n",
       "       [ 0.31092459, -0.62605764,  0.55087029,  0.01620965],\n",
       "       [-1.72344109, -0.39840032, -1.29669466, -1.28056271],\n",
       "       [ 1.028936  , -0.17074299,  0.83080437,  1.44265925],\n",
       "       [ 0.55026173, -0.85371497,  0.66284392,  0.79427307],\n",
       "       [-0.16774969, -1.30902962,  0.71883074,  1.05362754],\n",
       "       [-0.28741826, -0.39840032, -0.0649847 ,  0.14588689],\n",
       "       [-0.16774969,  3.01645955, -1.24070785, -1.02120823],\n",
       "       [ 1.62727885,  0.28457166,  1.2786989 ,  0.79427307],\n",
       "       [-1.12509825,  0.05691433, -1.24070785, -1.41023994]])"
      ]
     },
     "execution_count": 115,
     "metadata": {},
     "output_type": "execute_result"
    }
   ],
   "source": [
    "X_train"
   ]
  },
  {
   "cell_type": "code",
   "execution_count": null,
   "metadata": {
    "collapsed": true
   },
   "outputs": [],
   "source": []
  }
 ],
 "metadata": {
  "kernelspec": {
   "display_name": "Python 2",
   "language": "python",
   "name": "python2"
  },
  "language_info": {
   "codemirror_mode": {
    "name": "ipython",
    "version": 2
   },
   "file_extension": ".py",
   "mimetype": "text/x-python",
   "name": "python",
   "nbconvert_exporter": "python",
   "pygments_lexer": "ipython2",
   "version": "2.7.13"
  }
 },
 "nbformat": 4,
 "nbformat_minor": 2
}
